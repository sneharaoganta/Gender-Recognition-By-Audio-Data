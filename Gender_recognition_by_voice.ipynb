{
  "nbformat": 4,
  "nbformat_minor": 0,
  "metadata": {
    "colab": {
      "provenance": []
    },
    "kernelspec": {
      "name": "python3",
      "display_name": "Python 3"
    },
    "language_info": {
      "name": "python"
    }
  },
  "cells": [
    {
      "cell_type": "markdown",
      "source": [
        "Mounting Drive\n"
      ],
      "metadata": {
        "id": "3HbxcIQhcAIm"
      }
    },
    {
      "cell_type": "code",
      "execution_count": null,
      "metadata": {
        "colab": {
          "base_uri": "https://localhost:8080/"
        },
        "id": "i8SGMo0F7e-7",
        "outputId": "e35c340e-4664-442d-8286-42b1cca2f4ee"
      },
      "outputs": [
        {
          "output_type": "stream",
          "name": "stdout",
          "text": [
            "Mounted at /content/gdrive\n"
          ]
        }
      ],
      "source": [
        "from google.colab import drive\n",
        "drive.mount(\"/content/gdrive\")"
      ]
    },
    {
      "cell_type": "markdown",
      "source": [
        "Importing Necessary Packages \n"
      ],
      "metadata": {
        "id": "-OpzySt6cDI0"
      }
    },
    {
      "cell_type": "code",
      "source": [
        "import pandas as pd\n",
        "import numpy as np\n"
      ],
      "metadata": {
        "id": "82DW-F3I889x"
      },
      "execution_count": null,
      "outputs": []
    },
    {
      "cell_type": "markdown",
      "source": [
        "Loading Dataset"
      ],
      "metadata": {
        "id": "IifUsfeHcHJy"
      }
    },
    {
      "cell_type": "code",
      "source": [
        "voices_df = pd.read_csv(\"/content/gdrive/MyDrive/IISC project/voice.csv/voice.csv\")"
      ],
      "metadata": {
        "id": "slmpkHi09A-S"
      },
      "execution_count": null,
      "outputs": []
    },
    {
      "cell_type": "markdown",
      "source": [
        "Dataset Summary\n"
      ],
      "metadata": {
        "id": "FoMb0P8ccKHY"
      }
    },
    {
      "cell_type": "code",
      "source": [
        "voices_df.info()"
      ],
      "metadata": {
        "colab": {
          "base_uri": "https://localhost:8080/"
        },
        "id": "lOgoi4pP9jYu",
        "outputId": "1101ed2f-9e73-43eb-81ca-4f856de43018"
      },
      "execution_count": null,
      "outputs": [
        {
          "output_type": "stream",
          "name": "stdout",
          "text": [
            "<class 'pandas.core.frame.DataFrame'>\n",
            "RangeIndex: 3168 entries, 0 to 3167\n",
            "Data columns (total 21 columns):\n",
            " #   Column    Non-Null Count  Dtype  \n",
            "---  ------    --------------  -----  \n",
            " 0   meanfreq  3168 non-null   float64\n",
            " 1   sd        3168 non-null   float64\n",
            " 2   median    3168 non-null   float64\n",
            " 3   Q25       3168 non-null   float64\n",
            " 4   Q75       3168 non-null   float64\n",
            " 5   IQR       3168 non-null   float64\n",
            " 6   skew      3168 non-null   float64\n",
            " 7   kurt      3168 non-null   float64\n",
            " 8   sp.ent    3168 non-null   float64\n",
            " 9   sfm       3168 non-null   float64\n",
            " 10  mode      3168 non-null   float64\n",
            " 11  centroid  3168 non-null   float64\n",
            " 12  meanfun   3168 non-null   float64\n",
            " 13  minfun    3168 non-null   float64\n",
            " 14  maxfun    3168 non-null   float64\n",
            " 15  meandom   3168 non-null   float64\n",
            " 16  mindom    3168 non-null   float64\n",
            " 17  maxdom    3168 non-null   float64\n",
            " 18  dfrange   3168 non-null   float64\n",
            " 19  modindx   3168 non-null   float64\n",
            " 20  label     3168 non-null   object \n",
            "dtypes: float64(20), object(1)\n",
            "memory usage: 519.9+ KB\n"
          ]
        }
      ]
    },
    {
      "cell_type": "code",
      "source": [
        "voices_df.head()"
      ],
      "metadata": {
        "colab": {
          "base_uri": "https://localhost:8080/",
          "height": 299
        },
        "id": "uU7jBPmS9sqK",
        "outputId": "8dc48986-89f2-412a-c7b4-33990cacc4bf"
      },
      "execution_count": null,
      "outputs": [
        {
          "output_type": "execute_result",
          "data": {
            "text/plain": [
              "   meanfreq        sd    median       Q25       Q75       IQR       skew  \\\n",
              "0  0.059781  0.064241  0.032027  0.015071  0.090193  0.075122  12.863462   \n",
              "1  0.066009  0.067310  0.040229  0.019414  0.092666  0.073252  22.423285   \n",
              "2  0.077316  0.083829  0.036718  0.008701  0.131908  0.123207  30.757155   \n",
              "3  0.151228  0.072111  0.158011  0.096582  0.207955  0.111374   1.232831   \n",
              "4  0.135120  0.079146  0.124656  0.078720  0.206045  0.127325   1.101174   \n",
              "\n",
              "          kurt    sp.ent       sfm  ...  centroid   meanfun    minfun  \\\n",
              "0   274.402906  0.893369  0.491918  ...  0.059781  0.084279  0.015702   \n",
              "1   634.613855  0.892193  0.513724  ...  0.066009  0.107937  0.015826   \n",
              "2  1024.927705  0.846389  0.478905  ...  0.077316  0.098706  0.015656   \n",
              "3     4.177296  0.963322  0.727232  ...  0.151228  0.088965  0.017798   \n",
              "4     4.333713  0.971955  0.783568  ...  0.135120  0.106398  0.016931   \n",
              "\n",
              "     maxfun   meandom    mindom    maxdom   dfrange   modindx  label  \n",
              "0  0.275862  0.007812  0.007812  0.007812  0.000000  0.000000   male  \n",
              "1  0.250000  0.009014  0.007812  0.054688  0.046875  0.052632   male  \n",
              "2  0.271186  0.007990  0.007812  0.015625  0.007812  0.046512   male  \n",
              "3  0.250000  0.201497  0.007812  0.562500  0.554688  0.247119   male  \n",
              "4  0.266667  0.712812  0.007812  5.484375  5.476562  0.208274   male  \n",
              "\n",
              "[5 rows x 21 columns]"
            ],
            "text/html": [
              "\n",
              "  <div id=\"df-45b2b167-21e1-4cc4-8076-b679cb062943\">\n",
              "    <div class=\"colab-df-container\">\n",
              "      <div>\n",
              "<style scoped>\n",
              "    .dataframe tbody tr th:only-of-type {\n",
              "        vertical-align: middle;\n",
              "    }\n",
              "\n",
              "    .dataframe tbody tr th {\n",
              "        vertical-align: top;\n",
              "    }\n",
              "\n",
              "    .dataframe thead th {\n",
              "        text-align: right;\n",
              "    }\n",
              "</style>\n",
              "<table border=\"1\" class=\"dataframe\">\n",
              "  <thead>\n",
              "    <tr style=\"text-align: right;\">\n",
              "      <th></th>\n",
              "      <th>meanfreq</th>\n",
              "      <th>sd</th>\n",
              "      <th>median</th>\n",
              "      <th>Q25</th>\n",
              "      <th>Q75</th>\n",
              "      <th>IQR</th>\n",
              "      <th>skew</th>\n",
              "      <th>kurt</th>\n",
              "      <th>sp.ent</th>\n",
              "      <th>sfm</th>\n",
              "      <th>...</th>\n",
              "      <th>centroid</th>\n",
              "      <th>meanfun</th>\n",
              "      <th>minfun</th>\n",
              "      <th>maxfun</th>\n",
              "      <th>meandom</th>\n",
              "      <th>mindom</th>\n",
              "      <th>maxdom</th>\n",
              "      <th>dfrange</th>\n",
              "      <th>modindx</th>\n",
              "      <th>label</th>\n",
              "    </tr>\n",
              "  </thead>\n",
              "  <tbody>\n",
              "    <tr>\n",
              "      <th>0</th>\n",
              "      <td>0.059781</td>\n",
              "      <td>0.064241</td>\n",
              "      <td>0.032027</td>\n",
              "      <td>0.015071</td>\n",
              "      <td>0.090193</td>\n",
              "      <td>0.075122</td>\n",
              "      <td>12.863462</td>\n",
              "      <td>274.402906</td>\n",
              "      <td>0.893369</td>\n",
              "      <td>0.491918</td>\n",
              "      <td>...</td>\n",
              "      <td>0.059781</td>\n",
              "      <td>0.084279</td>\n",
              "      <td>0.015702</td>\n",
              "      <td>0.275862</td>\n",
              "      <td>0.007812</td>\n",
              "      <td>0.007812</td>\n",
              "      <td>0.007812</td>\n",
              "      <td>0.000000</td>\n",
              "      <td>0.000000</td>\n",
              "      <td>male</td>\n",
              "    </tr>\n",
              "    <tr>\n",
              "      <th>1</th>\n",
              "      <td>0.066009</td>\n",
              "      <td>0.067310</td>\n",
              "      <td>0.040229</td>\n",
              "      <td>0.019414</td>\n",
              "      <td>0.092666</td>\n",
              "      <td>0.073252</td>\n",
              "      <td>22.423285</td>\n",
              "      <td>634.613855</td>\n",
              "      <td>0.892193</td>\n",
              "      <td>0.513724</td>\n",
              "      <td>...</td>\n",
              "      <td>0.066009</td>\n",
              "      <td>0.107937</td>\n",
              "      <td>0.015826</td>\n",
              "      <td>0.250000</td>\n",
              "      <td>0.009014</td>\n",
              "      <td>0.007812</td>\n",
              "      <td>0.054688</td>\n",
              "      <td>0.046875</td>\n",
              "      <td>0.052632</td>\n",
              "      <td>male</td>\n",
              "    </tr>\n",
              "    <tr>\n",
              "      <th>2</th>\n",
              "      <td>0.077316</td>\n",
              "      <td>0.083829</td>\n",
              "      <td>0.036718</td>\n",
              "      <td>0.008701</td>\n",
              "      <td>0.131908</td>\n",
              "      <td>0.123207</td>\n",
              "      <td>30.757155</td>\n",
              "      <td>1024.927705</td>\n",
              "      <td>0.846389</td>\n",
              "      <td>0.478905</td>\n",
              "      <td>...</td>\n",
              "      <td>0.077316</td>\n",
              "      <td>0.098706</td>\n",
              "      <td>0.015656</td>\n",
              "      <td>0.271186</td>\n",
              "      <td>0.007990</td>\n",
              "      <td>0.007812</td>\n",
              "      <td>0.015625</td>\n",
              "      <td>0.007812</td>\n",
              "      <td>0.046512</td>\n",
              "      <td>male</td>\n",
              "    </tr>\n",
              "    <tr>\n",
              "      <th>3</th>\n",
              "      <td>0.151228</td>\n",
              "      <td>0.072111</td>\n",
              "      <td>0.158011</td>\n",
              "      <td>0.096582</td>\n",
              "      <td>0.207955</td>\n",
              "      <td>0.111374</td>\n",
              "      <td>1.232831</td>\n",
              "      <td>4.177296</td>\n",
              "      <td>0.963322</td>\n",
              "      <td>0.727232</td>\n",
              "      <td>...</td>\n",
              "      <td>0.151228</td>\n",
              "      <td>0.088965</td>\n",
              "      <td>0.017798</td>\n",
              "      <td>0.250000</td>\n",
              "      <td>0.201497</td>\n",
              "      <td>0.007812</td>\n",
              "      <td>0.562500</td>\n",
              "      <td>0.554688</td>\n",
              "      <td>0.247119</td>\n",
              "      <td>male</td>\n",
              "    </tr>\n",
              "    <tr>\n",
              "      <th>4</th>\n",
              "      <td>0.135120</td>\n",
              "      <td>0.079146</td>\n",
              "      <td>0.124656</td>\n",
              "      <td>0.078720</td>\n",
              "      <td>0.206045</td>\n",
              "      <td>0.127325</td>\n",
              "      <td>1.101174</td>\n",
              "      <td>4.333713</td>\n",
              "      <td>0.971955</td>\n",
              "      <td>0.783568</td>\n",
              "      <td>...</td>\n",
              "      <td>0.135120</td>\n",
              "      <td>0.106398</td>\n",
              "      <td>0.016931</td>\n",
              "      <td>0.266667</td>\n",
              "      <td>0.712812</td>\n",
              "      <td>0.007812</td>\n",
              "      <td>5.484375</td>\n",
              "      <td>5.476562</td>\n",
              "      <td>0.208274</td>\n",
              "      <td>male</td>\n",
              "    </tr>\n",
              "  </tbody>\n",
              "</table>\n",
              "<p>5 rows × 21 columns</p>\n",
              "</div>\n",
              "      <button class=\"colab-df-convert\" onclick=\"convertToInteractive('df-45b2b167-21e1-4cc4-8076-b679cb062943')\"\n",
              "              title=\"Convert this dataframe to an interactive table.\"\n",
              "              style=\"display:none;\">\n",
              "        \n",
              "  <svg xmlns=\"http://www.w3.org/2000/svg\" height=\"24px\"viewBox=\"0 0 24 24\"\n",
              "       width=\"24px\">\n",
              "    <path d=\"M0 0h24v24H0V0z\" fill=\"none\"/>\n",
              "    <path d=\"M18.56 5.44l.94 2.06.94-2.06 2.06-.94-2.06-.94-.94-2.06-.94 2.06-2.06.94zm-11 1L8.5 8.5l.94-2.06 2.06-.94-2.06-.94L8.5 2.5l-.94 2.06-2.06.94zm10 10l.94 2.06.94-2.06 2.06-.94-2.06-.94-.94-2.06-.94 2.06-2.06.94z\"/><path d=\"M17.41 7.96l-1.37-1.37c-.4-.4-.92-.59-1.43-.59-.52 0-1.04.2-1.43.59L10.3 9.45l-7.72 7.72c-.78.78-.78 2.05 0 2.83L4 21.41c.39.39.9.59 1.41.59.51 0 1.02-.2 1.41-.59l7.78-7.78 2.81-2.81c.8-.78.8-2.07 0-2.86zM5.41 20L4 18.59l7.72-7.72 1.47 1.35L5.41 20z\"/>\n",
              "  </svg>\n",
              "      </button>\n",
              "      \n",
              "  <style>\n",
              "    .colab-df-container {\n",
              "      display:flex;\n",
              "      flex-wrap:wrap;\n",
              "      gap: 12px;\n",
              "    }\n",
              "\n",
              "    .colab-df-convert {\n",
              "      background-color: #E8F0FE;\n",
              "      border: none;\n",
              "      border-radius: 50%;\n",
              "      cursor: pointer;\n",
              "      display: none;\n",
              "      fill: #1967D2;\n",
              "      height: 32px;\n",
              "      padding: 0 0 0 0;\n",
              "      width: 32px;\n",
              "    }\n",
              "\n",
              "    .colab-df-convert:hover {\n",
              "      background-color: #E2EBFA;\n",
              "      box-shadow: 0px 1px 2px rgba(60, 64, 67, 0.3), 0px 1px 3px 1px rgba(60, 64, 67, 0.15);\n",
              "      fill: #174EA6;\n",
              "    }\n",
              "\n",
              "    [theme=dark] .colab-df-convert {\n",
              "      background-color: #3B4455;\n",
              "      fill: #D2E3FC;\n",
              "    }\n",
              "\n",
              "    [theme=dark] .colab-df-convert:hover {\n",
              "      background-color: #434B5C;\n",
              "      box-shadow: 0px 1px 3px 1px rgba(0, 0, 0, 0.15);\n",
              "      filter: drop-shadow(0px 1px 2px rgba(0, 0, 0, 0.3));\n",
              "      fill: #FFFFFF;\n",
              "    }\n",
              "  </style>\n",
              "\n",
              "      <script>\n",
              "        const buttonEl =\n",
              "          document.querySelector('#df-45b2b167-21e1-4cc4-8076-b679cb062943 button.colab-df-convert');\n",
              "        buttonEl.style.display =\n",
              "          google.colab.kernel.accessAllowed ? 'block' : 'none';\n",
              "\n",
              "        async function convertToInteractive(key) {\n",
              "          const element = document.querySelector('#df-45b2b167-21e1-4cc4-8076-b679cb062943');\n",
              "          const dataTable =\n",
              "            await google.colab.kernel.invokeFunction('convertToInteractive',\n",
              "                                                     [key], {});\n",
              "          if (!dataTable) return;\n",
              "\n",
              "          const docLinkHtml = 'Like what you see? Visit the ' +\n",
              "            '<a target=\"_blank\" href=https://colab.research.google.com/notebooks/data_table.ipynb>data table notebook</a>'\n",
              "            + ' to learn more about interactive tables.';\n",
              "          element.innerHTML = '';\n",
              "          dataTable['output_type'] = 'display_data';\n",
              "          await google.colab.output.renderOutput(dataTable, element);\n",
              "          const docLink = document.createElement('div');\n",
              "          docLink.innerHTML = docLinkHtml;\n",
              "          element.appendChild(docLink);\n",
              "        }\n",
              "      </script>\n",
              "    </div>\n",
              "  </div>\n",
              "  "
            ]
          },
          "metadata": {},
          "execution_count": 6
        }
      ]
    },
    {
      "cell_type": "code",
      "source": [
        "voices_df.describe()"
      ],
      "metadata": {
        "colab": {
          "base_uri": "https://localhost:8080/",
          "height": 364
        },
        "id": "3Qdumtps9x2y",
        "outputId": "7a17e948-ed18-46d2-e575-0c0d3ece099e"
      },
      "execution_count": null,
      "outputs": [
        {
          "output_type": "execute_result",
          "data": {
            "text/plain": [
              "          meanfreq           sd       median          Q25          Q75  \\\n",
              "count  3168.000000  3168.000000  3168.000000  3168.000000  3168.000000   \n",
              "mean      0.180907     0.057126     0.185621     0.140456     0.224765   \n",
              "std       0.029918     0.016652     0.036360     0.048680     0.023639   \n",
              "min       0.039363     0.018363     0.010975     0.000229     0.042946   \n",
              "25%       0.163662     0.041954     0.169593     0.111087     0.208747   \n",
              "50%       0.184838     0.059155     0.190032     0.140286     0.225684   \n",
              "75%       0.199146     0.067020     0.210618     0.175939     0.243660   \n",
              "max       0.251124     0.115273     0.261224     0.247347     0.273469   \n",
              "\n",
              "               IQR         skew         kurt       sp.ent          sfm  \\\n",
              "count  3168.000000  3168.000000  3168.000000  3168.000000  3168.000000   \n",
              "mean      0.084309     3.140168    36.568461     0.895127     0.408216   \n",
              "std       0.042783     4.240529   134.928661     0.044980     0.177521   \n",
              "min       0.014558     0.141735     2.068455     0.738651     0.036876   \n",
              "25%       0.042560     1.649569     5.669547     0.861811     0.258041   \n",
              "50%       0.094280     2.197101     8.318463     0.901767     0.396335   \n",
              "75%       0.114175     2.931694    13.648905     0.928713     0.533676   \n",
              "max       0.252225    34.725453  1309.612887     0.981997     0.842936   \n",
              "\n",
              "              mode     centroid      meanfun       minfun       maxfun  \\\n",
              "count  3168.000000  3168.000000  3168.000000  3168.000000  3168.000000   \n",
              "mean      0.165282     0.180907     0.142807     0.036802     0.258842   \n",
              "std       0.077203     0.029918     0.032304     0.019220     0.030077   \n",
              "min       0.000000     0.039363     0.055565     0.009775     0.103093   \n",
              "25%       0.118016     0.163662     0.116998     0.018223     0.253968   \n",
              "50%       0.186599     0.184838     0.140519     0.046110     0.271186   \n",
              "75%       0.221104     0.199146     0.169581     0.047904     0.277457   \n",
              "max       0.280000     0.251124     0.237636     0.204082     0.279114   \n",
              "\n",
              "           meandom       mindom       maxdom      dfrange      modindx  \n",
              "count  3168.000000  3168.000000  3168.000000  3168.000000  3168.000000  \n",
              "mean      0.829211     0.052647     5.047277     4.994630     0.173752  \n",
              "std       0.525205     0.063299     3.521157     3.520039     0.119454  \n",
              "min       0.007812     0.004883     0.007812     0.000000     0.000000  \n",
              "25%       0.419828     0.007812     2.070312     2.044922     0.099766  \n",
              "50%       0.765795     0.023438     4.992188     4.945312     0.139357  \n",
              "75%       1.177166     0.070312     7.007812     6.992188     0.209183  \n",
              "max       2.957682     0.458984    21.867188    21.843750     0.932374  "
            ],
            "text/html": [
              "\n",
              "  <div id=\"df-878c11b1-b325-4d83-bec8-5c78a3d496f8\">\n",
              "    <div class=\"colab-df-container\">\n",
              "      <div>\n",
              "<style scoped>\n",
              "    .dataframe tbody tr th:only-of-type {\n",
              "        vertical-align: middle;\n",
              "    }\n",
              "\n",
              "    .dataframe tbody tr th {\n",
              "        vertical-align: top;\n",
              "    }\n",
              "\n",
              "    .dataframe thead th {\n",
              "        text-align: right;\n",
              "    }\n",
              "</style>\n",
              "<table border=\"1\" class=\"dataframe\">\n",
              "  <thead>\n",
              "    <tr style=\"text-align: right;\">\n",
              "      <th></th>\n",
              "      <th>meanfreq</th>\n",
              "      <th>sd</th>\n",
              "      <th>median</th>\n",
              "      <th>Q25</th>\n",
              "      <th>Q75</th>\n",
              "      <th>IQR</th>\n",
              "      <th>skew</th>\n",
              "      <th>kurt</th>\n",
              "      <th>sp.ent</th>\n",
              "      <th>sfm</th>\n",
              "      <th>mode</th>\n",
              "      <th>centroid</th>\n",
              "      <th>meanfun</th>\n",
              "      <th>minfun</th>\n",
              "      <th>maxfun</th>\n",
              "      <th>meandom</th>\n",
              "      <th>mindom</th>\n",
              "      <th>maxdom</th>\n",
              "      <th>dfrange</th>\n",
              "      <th>modindx</th>\n",
              "    </tr>\n",
              "  </thead>\n",
              "  <tbody>\n",
              "    <tr>\n",
              "      <th>count</th>\n",
              "      <td>3168.000000</td>\n",
              "      <td>3168.000000</td>\n",
              "      <td>3168.000000</td>\n",
              "      <td>3168.000000</td>\n",
              "      <td>3168.000000</td>\n",
              "      <td>3168.000000</td>\n",
              "      <td>3168.000000</td>\n",
              "      <td>3168.000000</td>\n",
              "      <td>3168.000000</td>\n",
              "      <td>3168.000000</td>\n",
              "      <td>3168.000000</td>\n",
              "      <td>3168.000000</td>\n",
              "      <td>3168.000000</td>\n",
              "      <td>3168.000000</td>\n",
              "      <td>3168.000000</td>\n",
              "      <td>3168.000000</td>\n",
              "      <td>3168.000000</td>\n",
              "      <td>3168.000000</td>\n",
              "      <td>3168.000000</td>\n",
              "      <td>3168.000000</td>\n",
              "    </tr>\n",
              "    <tr>\n",
              "      <th>mean</th>\n",
              "      <td>0.180907</td>\n",
              "      <td>0.057126</td>\n",
              "      <td>0.185621</td>\n",
              "      <td>0.140456</td>\n",
              "      <td>0.224765</td>\n",
              "      <td>0.084309</td>\n",
              "      <td>3.140168</td>\n",
              "      <td>36.568461</td>\n",
              "      <td>0.895127</td>\n",
              "      <td>0.408216</td>\n",
              "      <td>0.165282</td>\n",
              "      <td>0.180907</td>\n",
              "      <td>0.142807</td>\n",
              "      <td>0.036802</td>\n",
              "      <td>0.258842</td>\n",
              "      <td>0.829211</td>\n",
              "      <td>0.052647</td>\n",
              "      <td>5.047277</td>\n",
              "      <td>4.994630</td>\n",
              "      <td>0.173752</td>\n",
              "    </tr>\n",
              "    <tr>\n",
              "      <th>std</th>\n",
              "      <td>0.029918</td>\n",
              "      <td>0.016652</td>\n",
              "      <td>0.036360</td>\n",
              "      <td>0.048680</td>\n",
              "      <td>0.023639</td>\n",
              "      <td>0.042783</td>\n",
              "      <td>4.240529</td>\n",
              "      <td>134.928661</td>\n",
              "      <td>0.044980</td>\n",
              "      <td>0.177521</td>\n",
              "      <td>0.077203</td>\n",
              "      <td>0.029918</td>\n",
              "      <td>0.032304</td>\n",
              "      <td>0.019220</td>\n",
              "      <td>0.030077</td>\n",
              "      <td>0.525205</td>\n",
              "      <td>0.063299</td>\n",
              "      <td>3.521157</td>\n",
              "      <td>3.520039</td>\n",
              "      <td>0.119454</td>\n",
              "    </tr>\n",
              "    <tr>\n",
              "      <th>min</th>\n",
              "      <td>0.039363</td>\n",
              "      <td>0.018363</td>\n",
              "      <td>0.010975</td>\n",
              "      <td>0.000229</td>\n",
              "      <td>0.042946</td>\n",
              "      <td>0.014558</td>\n",
              "      <td>0.141735</td>\n",
              "      <td>2.068455</td>\n",
              "      <td>0.738651</td>\n",
              "      <td>0.036876</td>\n",
              "      <td>0.000000</td>\n",
              "      <td>0.039363</td>\n",
              "      <td>0.055565</td>\n",
              "      <td>0.009775</td>\n",
              "      <td>0.103093</td>\n",
              "      <td>0.007812</td>\n",
              "      <td>0.004883</td>\n",
              "      <td>0.007812</td>\n",
              "      <td>0.000000</td>\n",
              "      <td>0.000000</td>\n",
              "    </tr>\n",
              "    <tr>\n",
              "      <th>25%</th>\n",
              "      <td>0.163662</td>\n",
              "      <td>0.041954</td>\n",
              "      <td>0.169593</td>\n",
              "      <td>0.111087</td>\n",
              "      <td>0.208747</td>\n",
              "      <td>0.042560</td>\n",
              "      <td>1.649569</td>\n",
              "      <td>5.669547</td>\n",
              "      <td>0.861811</td>\n",
              "      <td>0.258041</td>\n",
              "      <td>0.118016</td>\n",
              "      <td>0.163662</td>\n",
              "      <td>0.116998</td>\n",
              "      <td>0.018223</td>\n",
              "      <td>0.253968</td>\n",
              "      <td>0.419828</td>\n",
              "      <td>0.007812</td>\n",
              "      <td>2.070312</td>\n",
              "      <td>2.044922</td>\n",
              "      <td>0.099766</td>\n",
              "    </tr>\n",
              "    <tr>\n",
              "      <th>50%</th>\n",
              "      <td>0.184838</td>\n",
              "      <td>0.059155</td>\n",
              "      <td>0.190032</td>\n",
              "      <td>0.140286</td>\n",
              "      <td>0.225684</td>\n",
              "      <td>0.094280</td>\n",
              "      <td>2.197101</td>\n",
              "      <td>8.318463</td>\n",
              "      <td>0.901767</td>\n",
              "      <td>0.396335</td>\n",
              "      <td>0.186599</td>\n",
              "      <td>0.184838</td>\n",
              "      <td>0.140519</td>\n",
              "      <td>0.046110</td>\n",
              "      <td>0.271186</td>\n",
              "      <td>0.765795</td>\n",
              "      <td>0.023438</td>\n",
              "      <td>4.992188</td>\n",
              "      <td>4.945312</td>\n",
              "      <td>0.139357</td>\n",
              "    </tr>\n",
              "    <tr>\n",
              "      <th>75%</th>\n",
              "      <td>0.199146</td>\n",
              "      <td>0.067020</td>\n",
              "      <td>0.210618</td>\n",
              "      <td>0.175939</td>\n",
              "      <td>0.243660</td>\n",
              "      <td>0.114175</td>\n",
              "      <td>2.931694</td>\n",
              "      <td>13.648905</td>\n",
              "      <td>0.928713</td>\n",
              "      <td>0.533676</td>\n",
              "      <td>0.221104</td>\n",
              "      <td>0.199146</td>\n",
              "      <td>0.169581</td>\n",
              "      <td>0.047904</td>\n",
              "      <td>0.277457</td>\n",
              "      <td>1.177166</td>\n",
              "      <td>0.070312</td>\n",
              "      <td>7.007812</td>\n",
              "      <td>6.992188</td>\n",
              "      <td>0.209183</td>\n",
              "    </tr>\n",
              "    <tr>\n",
              "      <th>max</th>\n",
              "      <td>0.251124</td>\n",
              "      <td>0.115273</td>\n",
              "      <td>0.261224</td>\n",
              "      <td>0.247347</td>\n",
              "      <td>0.273469</td>\n",
              "      <td>0.252225</td>\n",
              "      <td>34.725453</td>\n",
              "      <td>1309.612887</td>\n",
              "      <td>0.981997</td>\n",
              "      <td>0.842936</td>\n",
              "      <td>0.280000</td>\n",
              "      <td>0.251124</td>\n",
              "      <td>0.237636</td>\n",
              "      <td>0.204082</td>\n",
              "      <td>0.279114</td>\n",
              "      <td>2.957682</td>\n",
              "      <td>0.458984</td>\n",
              "      <td>21.867188</td>\n",
              "      <td>21.843750</td>\n",
              "      <td>0.932374</td>\n",
              "    </tr>\n",
              "  </tbody>\n",
              "</table>\n",
              "</div>\n",
              "      <button class=\"colab-df-convert\" onclick=\"convertToInteractive('df-878c11b1-b325-4d83-bec8-5c78a3d496f8')\"\n",
              "              title=\"Convert this dataframe to an interactive table.\"\n",
              "              style=\"display:none;\">\n",
              "        \n",
              "  <svg xmlns=\"http://www.w3.org/2000/svg\" height=\"24px\"viewBox=\"0 0 24 24\"\n",
              "       width=\"24px\">\n",
              "    <path d=\"M0 0h24v24H0V0z\" fill=\"none\"/>\n",
              "    <path d=\"M18.56 5.44l.94 2.06.94-2.06 2.06-.94-2.06-.94-.94-2.06-.94 2.06-2.06.94zm-11 1L8.5 8.5l.94-2.06 2.06-.94-2.06-.94L8.5 2.5l-.94 2.06-2.06.94zm10 10l.94 2.06.94-2.06 2.06-.94-2.06-.94-.94-2.06-.94 2.06-2.06.94z\"/><path d=\"M17.41 7.96l-1.37-1.37c-.4-.4-.92-.59-1.43-.59-.52 0-1.04.2-1.43.59L10.3 9.45l-7.72 7.72c-.78.78-.78 2.05 0 2.83L4 21.41c.39.39.9.59 1.41.59.51 0 1.02-.2 1.41-.59l7.78-7.78 2.81-2.81c.8-.78.8-2.07 0-2.86zM5.41 20L4 18.59l7.72-7.72 1.47 1.35L5.41 20z\"/>\n",
              "  </svg>\n",
              "      </button>\n",
              "      \n",
              "  <style>\n",
              "    .colab-df-container {\n",
              "      display:flex;\n",
              "      flex-wrap:wrap;\n",
              "      gap: 12px;\n",
              "    }\n",
              "\n",
              "    .colab-df-convert {\n",
              "      background-color: #E8F0FE;\n",
              "      border: none;\n",
              "      border-radius: 50%;\n",
              "      cursor: pointer;\n",
              "      display: none;\n",
              "      fill: #1967D2;\n",
              "      height: 32px;\n",
              "      padding: 0 0 0 0;\n",
              "      width: 32px;\n",
              "    }\n",
              "\n",
              "    .colab-df-convert:hover {\n",
              "      background-color: #E2EBFA;\n",
              "      box-shadow: 0px 1px 2px rgba(60, 64, 67, 0.3), 0px 1px 3px 1px rgba(60, 64, 67, 0.15);\n",
              "      fill: #174EA6;\n",
              "    }\n",
              "\n",
              "    [theme=dark] .colab-df-convert {\n",
              "      background-color: #3B4455;\n",
              "      fill: #D2E3FC;\n",
              "    }\n",
              "\n",
              "    [theme=dark] .colab-df-convert:hover {\n",
              "      background-color: #434B5C;\n",
              "      box-shadow: 0px 1px 3px 1px rgba(0, 0, 0, 0.15);\n",
              "      filter: drop-shadow(0px 1px 2px rgba(0, 0, 0, 0.3));\n",
              "      fill: #FFFFFF;\n",
              "    }\n",
              "  </style>\n",
              "\n",
              "      <script>\n",
              "        const buttonEl =\n",
              "          document.querySelector('#df-878c11b1-b325-4d83-bec8-5c78a3d496f8 button.colab-df-convert');\n",
              "        buttonEl.style.display =\n",
              "          google.colab.kernel.accessAllowed ? 'block' : 'none';\n",
              "\n",
              "        async function convertToInteractive(key) {\n",
              "          const element = document.querySelector('#df-878c11b1-b325-4d83-bec8-5c78a3d496f8');\n",
              "          const dataTable =\n",
              "            await google.colab.kernel.invokeFunction('convertToInteractive',\n",
              "                                                     [key], {});\n",
              "          if (!dataTable) return;\n",
              "\n",
              "          const docLinkHtml = 'Like what you see? Visit the ' +\n",
              "            '<a target=\"_blank\" href=https://colab.research.google.com/notebooks/data_table.ipynb>data table notebook</a>'\n",
              "            + ' to learn more about interactive tables.';\n",
              "          element.innerHTML = '';\n",
              "          dataTable['output_type'] = 'display_data';\n",
              "          await google.colab.output.renderOutput(dataTable, element);\n",
              "          const docLink = document.createElement('div');\n",
              "          docLink.innerHTML = docLinkHtml;\n",
              "          element.appendChild(docLink);\n",
              "        }\n",
              "      </script>\n",
              "    </div>\n",
              "  </div>\n",
              "  "
            ]
          },
          "metadata": {},
          "execution_count": 8
        }
      ]
    },
    {
      "cell_type": "markdown",
      "source": [
        "PREPROCESSING: LABEL ENCODER AND NORMALIZATION\n"
      ],
      "metadata": {
        "id": "Zog3G1Uh969l"
      }
    },
    {
      "cell_type": "code",
      "source": [
        "from sklearn import preprocessing\n",
        "le = preprocessing.LabelEncoder()\n",
        "voices_df[\"label\"] = le.fit_transform(voices_df[\"label\"])\n",
        "le.classes_"
      ],
      "metadata": {
        "colab": {
          "base_uri": "https://localhost:8080/"
        },
        "id": "8lUqYqQs92ZJ",
        "outputId": "539c200c-fba6-4cbb-a46f-b85790f53cea"
      },
      "execution_count": null,
      "outputs": [
        {
          "output_type": "execute_result",
          "data": {
            "text/plain": [
              "array(['female', 'male'], dtype=object)"
            ]
          },
          "metadata": {},
          "execution_count": 9
        }
      ]
    },
    {
      "cell_type": "code",
      "source": [
        "voices_df[:]=preprocessing.MinMaxScaler().fit_transform(voices_df)\n",
        "voices_df.head()"
      ],
      "metadata": {
        "colab": {
          "base_uri": "https://localhost:8080/",
          "height": 299
        },
        "id": "wXuS2wZ--QbP",
        "outputId": "53a7177d-082e-4a5b-adc7-934e9b7cda4f"
      },
      "execution_count": null,
      "outputs": [
        {
          "output_type": "execute_result",
          "data": {
            "text/plain": [
              "   meanfreq        sd    median       Q25       Q75       IQR      skew  \\\n",
              "0  0.096419  0.473409  0.084125  0.060063  0.204956  0.254828  0.367853   \n",
              "1  0.125828  0.505075  0.116900  0.077635  0.215683  0.246961  0.644279   \n",
              "2  0.179222  0.675536  0.102873  0.034284  0.385912  0.457148  0.885255   \n",
              "3  0.528261  0.554611  0.587559  0.389906  0.715802  0.407358  0.031549   \n",
              "4  0.452195  0.627209  0.454272  0.317627  0.707515  0.474474  0.027742   \n",
              "\n",
              "       kurt    sp.ent       sfm  ...  centroid   meanfun    minfun    maxfun  \\\n",
              "0  0.208279  0.635798  0.564526  ...  0.096419  0.157706  0.030501  0.981526   \n",
              "1  0.483766  0.630964  0.591578  ...  0.125828  0.287642  0.031140  0.834600   \n",
              "2  0.782275  0.442738  0.548382  ...  0.179222  0.236945  0.030264  0.954963   \n",
              "3  0.001613  0.923261  0.856457  ...  0.528261  0.183442  0.041287  0.834600   \n",
              "4  0.001732  0.958736  0.926348  ...  0.452195  0.279190  0.036829  0.929285   \n",
              "\n",
              "    meandom    mindom    maxdom   dfrange   modindx  label  \n",
              "0  0.000000  0.006452  0.000000  0.000000  0.000000    1.0  \n",
              "1  0.000407  0.006452  0.002144  0.002146  0.056449    1.0  \n",
              "2  0.000060  0.006452  0.000357  0.000358  0.049885    1.0  \n",
              "3  0.065659  0.006452  0.025375  0.025393  0.265043    1.0  \n",
              "4  0.238994  0.006452  0.250536  0.250715  0.223380    1.0  \n",
              "\n",
              "[5 rows x 21 columns]"
            ],
            "text/html": [
              "\n",
              "  <div id=\"df-0cb88b8c-3c90-4fa5-91ee-66917758910a\">\n",
              "    <div class=\"colab-df-container\">\n",
              "      <div>\n",
              "<style scoped>\n",
              "    .dataframe tbody tr th:only-of-type {\n",
              "        vertical-align: middle;\n",
              "    }\n",
              "\n",
              "    .dataframe tbody tr th {\n",
              "        vertical-align: top;\n",
              "    }\n",
              "\n",
              "    .dataframe thead th {\n",
              "        text-align: right;\n",
              "    }\n",
              "</style>\n",
              "<table border=\"1\" class=\"dataframe\">\n",
              "  <thead>\n",
              "    <tr style=\"text-align: right;\">\n",
              "      <th></th>\n",
              "      <th>meanfreq</th>\n",
              "      <th>sd</th>\n",
              "      <th>median</th>\n",
              "      <th>Q25</th>\n",
              "      <th>Q75</th>\n",
              "      <th>IQR</th>\n",
              "      <th>skew</th>\n",
              "      <th>kurt</th>\n",
              "      <th>sp.ent</th>\n",
              "      <th>sfm</th>\n",
              "      <th>...</th>\n",
              "      <th>centroid</th>\n",
              "      <th>meanfun</th>\n",
              "      <th>minfun</th>\n",
              "      <th>maxfun</th>\n",
              "      <th>meandom</th>\n",
              "      <th>mindom</th>\n",
              "      <th>maxdom</th>\n",
              "      <th>dfrange</th>\n",
              "      <th>modindx</th>\n",
              "      <th>label</th>\n",
              "    </tr>\n",
              "  </thead>\n",
              "  <tbody>\n",
              "    <tr>\n",
              "      <th>0</th>\n",
              "      <td>0.096419</td>\n",
              "      <td>0.473409</td>\n",
              "      <td>0.084125</td>\n",
              "      <td>0.060063</td>\n",
              "      <td>0.204956</td>\n",
              "      <td>0.254828</td>\n",
              "      <td>0.367853</td>\n",
              "      <td>0.208279</td>\n",
              "      <td>0.635798</td>\n",
              "      <td>0.564526</td>\n",
              "      <td>...</td>\n",
              "      <td>0.096419</td>\n",
              "      <td>0.157706</td>\n",
              "      <td>0.030501</td>\n",
              "      <td>0.981526</td>\n",
              "      <td>0.000000</td>\n",
              "      <td>0.006452</td>\n",
              "      <td>0.000000</td>\n",
              "      <td>0.000000</td>\n",
              "      <td>0.000000</td>\n",
              "      <td>1.0</td>\n",
              "    </tr>\n",
              "    <tr>\n",
              "      <th>1</th>\n",
              "      <td>0.125828</td>\n",
              "      <td>0.505075</td>\n",
              "      <td>0.116900</td>\n",
              "      <td>0.077635</td>\n",
              "      <td>0.215683</td>\n",
              "      <td>0.246961</td>\n",
              "      <td>0.644279</td>\n",
              "      <td>0.483766</td>\n",
              "      <td>0.630964</td>\n",
              "      <td>0.591578</td>\n",
              "      <td>...</td>\n",
              "      <td>0.125828</td>\n",
              "      <td>0.287642</td>\n",
              "      <td>0.031140</td>\n",
              "      <td>0.834600</td>\n",
              "      <td>0.000407</td>\n",
              "      <td>0.006452</td>\n",
              "      <td>0.002144</td>\n",
              "      <td>0.002146</td>\n",
              "      <td>0.056449</td>\n",
              "      <td>1.0</td>\n",
              "    </tr>\n",
              "    <tr>\n",
              "      <th>2</th>\n",
              "      <td>0.179222</td>\n",
              "      <td>0.675536</td>\n",
              "      <td>0.102873</td>\n",
              "      <td>0.034284</td>\n",
              "      <td>0.385912</td>\n",
              "      <td>0.457148</td>\n",
              "      <td>0.885255</td>\n",
              "      <td>0.782275</td>\n",
              "      <td>0.442738</td>\n",
              "      <td>0.548382</td>\n",
              "      <td>...</td>\n",
              "      <td>0.179222</td>\n",
              "      <td>0.236945</td>\n",
              "      <td>0.030264</td>\n",
              "      <td>0.954963</td>\n",
              "      <td>0.000060</td>\n",
              "      <td>0.006452</td>\n",
              "      <td>0.000357</td>\n",
              "      <td>0.000358</td>\n",
              "      <td>0.049885</td>\n",
              "      <td>1.0</td>\n",
              "    </tr>\n",
              "    <tr>\n",
              "      <th>3</th>\n",
              "      <td>0.528261</td>\n",
              "      <td>0.554611</td>\n",
              "      <td>0.587559</td>\n",
              "      <td>0.389906</td>\n",
              "      <td>0.715802</td>\n",
              "      <td>0.407358</td>\n",
              "      <td>0.031549</td>\n",
              "      <td>0.001613</td>\n",
              "      <td>0.923261</td>\n",
              "      <td>0.856457</td>\n",
              "      <td>...</td>\n",
              "      <td>0.528261</td>\n",
              "      <td>0.183442</td>\n",
              "      <td>0.041287</td>\n",
              "      <td>0.834600</td>\n",
              "      <td>0.065659</td>\n",
              "      <td>0.006452</td>\n",
              "      <td>0.025375</td>\n",
              "      <td>0.025393</td>\n",
              "      <td>0.265043</td>\n",
              "      <td>1.0</td>\n",
              "    </tr>\n",
              "    <tr>\n",
              "      <th>4</th>\n",
              "      <td>0.452195</td>\n",
              "      <td>0.627209</td>\n",
              "      <td>0.454272</td>\n",
              "      <td>0.317627</td>\n",
              "      <td>0.707515</td>\n",
              "      <td>0.474474</td>\n",
              "      <td>0.027742</td>\n",
              "      <td>0.001732</td>\n",
              "      <td>0.958736</td>\n",
              "      <td>0.926348</td>\n",
              "      <td>...</td>\n",
              "      <td>0.452195</td>\n",
              "      <td>0.279190</td>\n",
              "      <td>0.036829</td>\n",
              "      <td>0.929285</td>\n",
              "      <td>0.238994</td>\n",
              "      <td>0.006452</td>\n",
              "      <td>0.250536</td>\n",
              "      <td>0.250715</td>\n",
              "      <td>0.223380</td>\n",
              "      <td>1.0</td>\n",
              "    </tr>\n",
              "  </tbody>\n",
              "</table>\n",
              "<p>5 rows × 21 columns</p>\n",
              "</div>\n",
              "      <button class=\"colab-df-convert\" onclick=\"convertToInteractive('df-0cb88b8c-3c90-4fa5-91ee-66917758910a')\"\n",
              "              title=\"Convert this dataframe to an interactive table.\"\n",
              "              style=\"display:none;\">\n",
              "        \n",
              "  <svg xmlns=\"http://www.w3.org/2000/svg\" height=\"24px\"viewBox=\"0 0 24 24\"\n",
              "       width=\"24px\">\n",
              "    <path d=\"M0 0h24v24H0V0z\" fill=\"none\"/>\n",
              "    <path d=\"M18.56 5.44l.94 2.06.94-2.06 2.06-.94-2.06-.94-.94-2.06-.94 2.06-2.06.94zm-11 1L8.5 8.5l.94-2.06 2.06-.94-2.06-.94L8.5 2.5l-.94 2.06-2.06.94zm10 10l.94 2.06.94-2.06 2.06-.94-2.06-.94-.94-2.06-.94 2.06-2.06.94z\"/><path d=\"M17.41 7.96l-1.37-1.37c-.4-.4-.92-.59-1.43-.59-.52 0-1.04.2-1.43.59L10.3 9.45l-7.72 7.72c-.78.78-.78 2.05 0 2.83L4 21.41c.39.39.9.59 1.41.59.51 0 1.02-.2 1.41-.59l7.78-7.78 2.81-2.81c.8-.78.8-2.07 0-2.86zM5.41 20L4 18.59l7.72-7.72 1.47 1.35L5.41 20z\"/>\n",
              "  </svg>\n",
              "      </button>\n",
              "      \n",
              "  <style>\n",
              "    .colab-df-container {\n",
              "      display:flex;\n",
              "      flex-wrap:wrap;\n",
              "      gap: 12px;\n",
              "    }\n",
              "\n",
              "    .colab-df-convert {\n",
              "      background-color: #E8F0FE;\n",
              "      border: none;\n",
              "      border-radius: 50%;\n",
              "      cursor: pointer;\n",
              "      display: none;\n",
              "      fill: #1967D2;\n",
              "      height: 32px;\n",
              "      padding: 0 0 0 0;\n",
              "      width: 32px;\n",
              "    }\n",
              "\n",
              "    .colab-df-convert:hover {\n",
              "      background-color: #E2EBFA;\n",
              "      box-shadow: 0px 1px 2px rgba(60, 64, 67, 0.3), 0px 1px 3px 1px rgba(60, 64, 67, 0.15);\n",
              "      fill: #174EA6;\n",
              "    }\n",
              "\n",
              "    [theme=dark] .colab-df-convert {\n",
              "      background-color: #3B4455;\n",
              "      fill: #D2E3FC;\n",
              "    }\n",
              "\n",
              "    [theme=dark] .colab-df-convert:hover {\n",
              "      background-color: #434B5C;\n",
              "      box-shadow: 0px 1px 3px 1px rgba(0, 0, 0, 0.15);\n",
              "      filter: drop-shadow(0px 1px 2px rgba(0, 0, 0, 0.3));\n",
              "      fill: #FFFFFF;\n",
              "    }\n",
              "  </style>\n",
              "\n",
              "      <script>\n",
              "        const buttonEl =\n",
              "          document.querySelector('#df-0cb88b8c-3c90-4fa5-91ee-66917758910a button.colab-df-convert');\n",
              "        buttonEl.style.display =\n",
              "          google.colab.kernel.accessAllowed ? 'block' : 'none';\n",
              "\n",
              "        async function convertToInteractive(key) {\n",
              "          const element = document.querySelector('#df-0cb88b8c-3c90-4fa5-91ee-66917758910a');\n",
              "          const dataTable =\n",
              "            await google.colab.kernel.invokeFunction('convertToInteractive',\n",
              "                                                     [key], {});\n",
              "          if (!dataTable) return;\n",
              "\n",
              "          const docLinkHtml = 'Like what you see? Visit the ' +\n",
              "            '<a target=\"_blank\" href=https://colab.research.google.com/notebooks/data_table.ipynb>data table notebook</a>'\n",
              "            + ' to learn more about interactive tables.';\n",
              "          element.innerHTML = '';\n",
              "          dataTable['output_type'] = 'display_data';\n",
              "          await google.colab.output.renderOutput(dataTable, element);\n",
              "          const docLink = document.createElement('div');\n",
              "          docLink.innerHTML = docLinkHtml;\n",
              "          element.appendChild(docLink);\n",
              "        }\n",
              "      </script>\n",
              "    </div>\n",
              "  </div>\n",
              "  "
            ]
          },
          "metadata": {},
          "execution_count": 10
        }
      ]
    },
    {
      "cell_type": "markdown",
      "source": [
        "VISUALIZATION"
      ],
      "metadata": {
        "id": "2nHGLIks-e80"
      }
    },
    {
      "cell_type": "code",
      "source": [
        "import seaborn as sns\n",
        "import matplotlib.pyplot as plt\n",
        "plt.subplots(4,5,figsize=(15,15))\n",
        "for i in range(1,21):\n",
        "    plt.subplot(4,5,i)\n",
        "    plt.title(voices_df.columns[i-1])\n",
        "    sns.kdeplot(voices_df.loc[voices_df['label'] == 0, voices_df.columns[i-1]], color= 'green', label='F')\n",
        "    sns.kdeplot(voices_df.loc[voices_df['label'] == 1, voices_df.columns[i-1]], color= 'blue', label='M')\n"
      ],
      "metadata": {
        "colab": {
          "base_uri": "https://localhost:8080/",
          "height": 893
        },
        "id": "sW770-r9-giv",
        "outputId": "6c7d9a8f-e6f5-48be-a2fb-932d3067702c"
      },
      "execution_count": null,
      "outputs": [
        {
          "output_type": "display_data",
          "data": {
            "text/plain": [
              "<Figure size 1080x1080 with 20 Axes>"
            ],
            "image/png": "[encoded data removed]"
          },
          "metadata": {
            "needs_background": "light"
          }
        }
      ]
    },
    {
      "cell_type": "markdown",
      "source": [
        "Most significant features : Q25, IQR and meanfun"
      ],
      "metadata": {
        "id": "UOdhNcgA-3VZ"
      }
    },
    {
      "cell_type": "code",
      "source": [
        "from sklearn import preprocessing\n",
        "from sklearn.model_selection import train_test_split\n",
        "from sklearn.metrics import accuracy_score\n",
        "\n",
        "from sklearn import neighbors\n",
        "from sklearn import naive_bayes\n",
        "from sklearn import tree\n",
        "from sklearn import ensemble\n",
        "from sklearn import svm\n",
        "from sklearn import neural_network\n",
        "import xgboost"
      ],
      "metadata": {
        "id": "NostcKyH-Wj5"
      },
      "execution_count": null,
      "outputs": []
    },
    {
      "cell_type": "code",
      "source": [
        "train, test = train_test_split(voices_df, test_size=0.3)"
      ],
      "metadata": {
        "id": "qiP9xpHN_KYI"
      },
      "execution_count": null,
      "outputs": []
    },
    {
      "cell_type": "code",
      "source": [
        "train.head()\n"
      ],
      "metadata": {
        "colab": {
          "base_uri": "https://localhost:8080/",
          "height": 299
        },
        "id": "pWUGFKLg_QoY",
        "outputId": "ea1cccac-4608-4dc9-9dce-f3edfd41615a"
      },
      "execution_count": null,
      "outputs": [
        {
          "output_type": "execute_result",
          "data": {
            "text/plain": [
              "      meanfreq        sd    median       Q25       Q75       IQR      skew  \\\n",
              "2239  0.438903  0.696276  0.386895  0.219204  0.734444  0.602930  0.015919   \n",
              "705   0.519897  0.431626  0.479236  0.396813  0.668368  0.354169  0.091092   \n",
              "1459  0.664190  0.431229  0.677803  0.519271  0.827397  0.381089  0.044865   \n",
              "2857  0.900928  0.156992  0.880695  0.899560  0.881296  0.037957  0.094610   \n",
              "1243  0.682541  0.416731  0.748921  0.494433  0.846440  0.425387  0.072367   \n",
              "\n",
              "          kurt    sp.ent       sfm  ...  centroid   meanfun    minfun  \\\n",
              "2239  0.001028  0.974235  0.963642  ...  0.438903  0.782488  0.199220   \n",
              "705   0.011280  0.617240  0.446346  ...  0.519897  0.254046  0.417556   \n",
              "1459  0.003873  0.759528  0.467564  ...  0.664190  0.410139  0.209180   \n",
              "2857  0.012106  0.293070  0.170407  ...  0.900928  0.799136  0.191881   \n",
              "1243  0.007092  0.680018  0.433657  ...  0.682541  0.396796  0.195251   \n",
              "\n",
              "        maxfun   meandom    mindom    maxdom   dfrange   modindx  label  \n",
              "2239  0.954963  0.191094  0.058065  0.063259  0.062232  0.493118    0.0  \n",
              "705   0.649345  0.134287  0.215054  0.036499  0.032189  0.769640    1.0  \n",
              "1459  0.937749  0.294993  0.040860  0.200143  0.199571  0.150418    1.0  \n",
              "2857  0.999749  0.418598  0.505376  0.395282  0.385193  0.129039    0.0  \n",
              "1243  0.999749  0.432456  0.040860  0.330951  0.330472  0.132124    1.0  \n",
              "\n",
              "[5 rows x 21 columns]"
            ],
            "text/html": [
              "\n",
              "  <div id=\"df-8aa48bf2-d1f5-4bb0-b210-6e93ca4be9d8\">\n",
              "    <div class=\"colab-df-container\">\n",
              "      <div>\n",
              "<style scoped>\n",
              "    .dataframe tbody tr th:only-of-type {\n",
              "        vertical-align: middle;\n",
              "    }\n",
              "\n",
              "    .dataframe tbody tr th {\n",
              "        vertical-align: top;\n",
              "    }\n",
              "\n",
              "    .dataframe thead th {\n",
              "        text-align: right;\n",
              "    }\n",
              "</style>\n",
              "<table border=\"1\" class=\"dataframe\">\n",
              "  <thead>\n",
              "    <tr style=\"text-align: right;\">\n",
              "      <th></th>\n",
              "      <th>meanfreq</th>\n",
              "      <th>sd</th>\n",
              "      <th>median</th>\n",
              "      <th>Q25</th>\n",
              "      <th>Q75</th>\n",
              "      <th>IQR</th>\n",
              "      <th>skew</th>\n",
              "      <th>kurt</th>\n",
              "      <th>sp.ent</th>\n",
              "      <th>sfm</th>\n",
              "      <th>...</th>\n",
              "      <th>centroid</th>\n",
              "      <th>meanfun</th>\n",
              "      <th>minfun</th>\n",
              "      <th>maxfun</th>\n",
              "      <th>meandom</th>\n",
              "      <th>mindom</th>\n",
              "      <th>maxdom</th>\n",
              "      <th>dfrange</th>\n",
              "      <th>modindx</th>\n",
              "      <th>label</th>\n",
              "    </tr>\n",
              "  </thead>\n",
              "  <tbody>\n",
              "    <tr>\n",
              "      <th>2239</th>\n",
              "      <td>0.438903</td>\n",
              "      <td>0.696276</td>\n",
              "      <td>0.386895</td>\n",
              "      <td>0.219204</td>\n",
              "      <td>0.734444</td>\n",
              "      <td>0.602930</td>\n",
              "      <td>0.015919</td>\n",
              "      <td>0.001028</td>\n",
              "      <td>0.974235</td>\n",
              "      <td>0.963642</td>\n",
              "      <td>...</td>\n",
              "      <td>0.438903</td>\n",
              "      <td>0.782488</td>\n",
              "      <td>0.199220</td>\n",
              "      <td>0.954963</td>\n",
              "      <td>0.191094</td>\n",
              "      <td>0.058065</td>\n",
              "      <td>0.063259</td>\n",
              "      <td>0.062232</td>\n",
              "      <td>0.493118</td>\n",
              "      <td>0.0</td>\n",
              "    </tr>\n",
              "    <tr>\n",
              "      <th>705</th>\n",
              "      <td>0.519897</td>\n",
              "      <td>0.431626</td>\n",
              "      <td>0.479236</td>\n",
              "      <td>0.396813</td>\n",
              "      <td>0.668368</td>\n",
              "      <td>0.354169</td>\n",
              "      <td>0.091092</td>\n",
              "      <td>0.011280</td>\n",
              "      <td>0.617240</td>\n",
              "      <td>0.446346</td>\n",
              "      <td>...</td>\n",
              "      <td>0.519897</td>\n",
              "      <td>0.254046</td>\n",
              "      <td>0.417556</td>\n",
              "      <td>0.649345</td>\n",
              "      <td>0.134287</td>\n",
              "      <td>0.215054</td>\n",
              "      <td>0.036499</td>\n",
              "      <td>0.032189</td>\n",
              "      <td>0.769640</td>\n",
              "      <td>1.0</td>\n",
              "    </tr>\n",
              "    <tr>\n",
              "      <th>1459</th>\n",
              "      <td>0.664190</td>\n",
              "      <td>0.431229</td>\n",
              "      <td>0.677803</td>\n",
              "      <td>0.519271</td>\n",
              "      <td>0.827397</td>\n",
              "      <td>0.381089</td>\n",
              "      <td>0.044865</td>\n",
              "      <td>0.003873</td>\n",
              "      <td>0.759528</td>\n",
              "      <td>0.467564</td>\n",
              "      <td>...</td>\n",
              "      <td>0.664190</td>\n",
              "      <td>0.410139</td>\n",
              "      <td>0.209180</td>\n",
              "      <td>0.937749</td>\n",
              "      <td>0.294993</td>\n",
              "      <td>0.040860</td>\n",
              "      <td>0.200143</td>\n",
              "      <td>0.199571</td>\n",
              "      <td>0.150418</td>\n",
              "      <td>1.0</td>\n",
              "    </tr>\n",
              "    <tr>\n",
              "      <th>2857</th>\n",
              "      <td>0.900928</td>\n",
              "      <td>0.156992</td>\n",
              "      <td>0.880695</td>\n",
              "      <td>0.899560</td>\n",
              "      <td>0.881296</td>\n",
              "      <td>0.037957</td>\n",
              "      <td>0.094610</td>\n",
              "      <td>0.012106</td>\n",
              "      <td>0.293070</td>\n",
              "      <td>0.170407</td>\n",
              "      <td>...</td>\n",
              "      <td>0.900928</td>\n",
              "      <td>0.799136</td>\n",
              "      <td>0.191881</td>\n",
              "      <td>0.999749</td>\n",
              "      <td>0.418598</td>\n",
              "      <td>0.505376</td>\n",
              "      <td>0.395282</td>\n",
              "      <td>0.385193</td>\n",
              "      <td>0.129039</td>\n",
              "      <td>0.0</td>\n",
              "    </tr>\n",
              "    <tr>\n",
              "      <th>1243</th>\n",
              "      <td>0.682541</td>\n",
              "      <td>0.416731</td>\n",
              "      <td>0.748921</td>\n",
              "      <td>0.494433</td>\n",
              "      <td>0.846440</td>\n",
              "      <td>0.425387</td>\n",
              "      <td>0.072367</td>\n",
              "      <td>0.007092</td>\n",
              "      <td>0.680018</td>\n",
              "      <td>0.433657</td>\n",
              "      <td>...</td>\n",
              "      <td>0.682541</td>\n",
              "      <td>0.396796</td>\n",
              "      <td>0.195251</td>\n",
              "      <td>0.999749</td>\n",
              "      <td>0.432456</td>\n",
              "      <td>0.040860</td>\n",
              "      <td>0.330951</td>\n",
              "      <td>0.330472</td>\n",
              "      <td>0.132124</td>\n",
              "      <td>1.0</td>\n",
              "    </tr>\n",
              "  </tbody>\n",
              "</table>\n",
              "<p>5 rows × 21 columns</p>\n",
              "</div>\n",
              "      <button class=\"colab-df-convert\" onclick=\"convertToInteractive('df-8aa48bf2-d1f5-4bb0-b210-6e93ca4be9d8')\"\n",
              "              title=\"Convert this dataframe to an interactive table.\"\n",
              "              style=\"display:none;\">\n",
              "        \n",
              "  <svg xmlns=\"http://www.w3.org/2000/svg\" height=\"24px\"viewBox=\"0 0 24 24\"\n",
              "       width=\"24px\">\n",
              "    <path d=\"M0 0h24v24H0V0z\" fill=\"none\"/>\n",
              "    <path d=\"M18.56 5.44l.94 2.06.94-2.06 2.06-.94-2.06-.94-.94-2.06-.94 2.06-2.06.94zm-11 1L8.5 8.5l.94-2.06 2.06-.94-2.06-.94L8.5 2.5l-.94 2.06-2.06.94zm10 10l.94 2.06.94-2.06 2.06-.94-2.06-.94-.94-2.06-.94 2.06-2.06.94z\"/><path d=\"M17.41 7.96l-1.37-1.37c-.4-.4-.92-.59-1.43-.59-.52 0-1.04.2-1.43.59L10.3 9.45l-7.72 7.72c-.78.78-.78 2.05 0 2.83L4 21.41c.39.39.9.59 1.41.59.51 0 1.02-.2 1.41-.59l7.78-7.78 2.81-2.81c.8-.78.8-2.07 0-2.86zM5.41 20L4 18.59l7.72-7.72 1.47 1.35L5.41 20z\"/>\n",
              "  </svg>\n",
              "      </button>\n",
              "      \n",
              "  <style>\n",
              "    .colab-df-container {\n",
              "      display:flex;\n",
              "      flex-wrap:wrap;\n",
              "      gap: 12px;\n",
              "    }\n",
              "\n",
              "    .colab-df-convert {\n",
              "      background-color: #E8F0FE;\n",
              "      border: none;\n",
              "      border-radius: 50%;\n",
              "      cursor: pointer;\n",
              "      display: none;\n",
              "      fill: #1967D2;\n",
              "      height: 32px;\n",
              "      padding: 0 0 0 0;\n",
              "      width: 32px;\n",
              "    }\n",
              "\n",
              "    .colab-df-convert:hover {\n",
              "      background-color: #E2EBFA;\n",
              "      box-shadow: 0px 1px 2px rgba(60, 64, 67, 0.3), 0px 1px 3px 1px rgba(60, 64, 67, 0.15);\n",
              "      fill: #174EA6;\n",
              "    }\n",
              "\n",
              "    [theme=dark] .colab-df-convert {\n",
              "      background-color: #3B4455;\n",
              "      fill: #D2E3FC;\n",
              "    }\n",
              "\n",
              "    [theme=dark] .colab-df-convert:hover {\n",
              "      background-color: #434B5C;\n",
              "      box-shadow: 0px 1px 3px 1px rgba(0, 0, 0, 0.15);\n",
              "      filter: drop-shadow(0px 1px 2px rgba(0, 0, 0, 0.3));\n",
              "      fill: #FFFFFF;\n",
              "    }\n",
              "  </style>\n",
              "\n",
              "      <script>\n",
              "        const buttonEl =\n",
              "          document.querySelector('#df-8aa48bf2-d1f5-4bb0-b210-6e93ca4be9d8 button.colab-df-convert');\n",
              "        buttonEl.style.display =\n",
              "          google.colab.kernel.accessAllowed ? 'block' : 'none';\n",
              "\n",
              "        async function convertToInteractive(key) {\n",
              "          const element = document.querySelector('#df-8aa48bf2-d1f5-4bb0-b210-6e93ca4be9d8');\n",
              "          const dataTable =\n",
              "            await google.colab.kernel.invokeFunction('convertToInteractive',\n",
              "                                                     [key], {});\n",
              "          if (!dataTable) return;\n",
              "\n",
              "          const docLinkHtml = 'Like what you see? Visit the ' +\n",
              "            '<a target=\"_blank\" href=https://colab.research.google.com/notebooks/data_table.ipynb>data table notebook</a>'\n",
              "            + ' to learn more about interactive tables.';\n",
              "          element.innerHTML = '';\n",
              "          dataTable['output_type'] = 'display_data';\n",
              "          await google.colab.output.renderOutput(dataTable, element);\n",
              "          const docLink = document.createElement('div');\n",
              "          docLink.innerHTML = docLinkHtml;\n",
              "          element.appendChild(docLink);\n",
              "        }\n",
              "      </script>\n",
              "    </div>\n",
              "  </div>\n",
              "  "
            ]
          },
          "metadata": {},
          "execution_count": 15
        }
      ]
    },
    {
      "cell_type": "code",
      "source": [
        "x_train = train.iloc[:, :-1]\n",
        "y_train = train[\"label\"]\n",
        "x_test = test.iloc[:, :-1]\n",
        "y_test = test[\"label\"]"
      ],
      "metadata": {
        "id": "ODitvRq__Vh0"
      },
      "execution_count": null,
      "outputs": []
    },
    {
      "cell_type": "code",
      "source": [
        "x_train3 = train[[\"meanfun\",\"IQR\",\"Q25\"]]\n",
        "y_train3 = train[\"label\"]\n",
        "x_test3 = test[[\"meanfun\",\"IQR\",\"Q25\"]]\n",
        "y_test3 = test[\"label\"]"
      ],
      "metadata": {
        "id": "4x5a52Rv_ZIz"
      },
      "execution_count": null,
      "outputs": []
    },
    {
      "cell_type": "code",
      "source": [
        "def classify(model,x_train,y_train,x_test,y_test):\n",
        "    from sklearn.metrics import classification_report\n",
        "    target_names = ['female', 'male']\n",
        "    model.fit(x_train,y_train)\n",
        "    y_pred=model.predict(x_test)\n",
        "    print(classification_report(y_test, y_pred, target_names=target_names, digits=4))"
      ],
      "metadata": {
        "id": "h1d9zdMJ_iU0"
      },
      "execution_count": null,
      "outputs": []
    },
    {
      "cell_type": "markdown",
      "source": [
        "K-Nearest Neighbors\n"
      ],
      "metadata": {
        "id": "xGwiU08s_7bz"
      }
    },
    {
      "cell_type": "code",
      "source": [
        "def knn_error(k,x_train,y_train,x_test,y_test):\n",
        "    error_rate = []\n",
        "    K=range(1,k)\n",
        "    for i in K:\n",
        "        knn = neighbors.KNeighborsClassifier(n_neighbors = i)\n",
        "        knn.fit(x_train, y_train)\n",
        "        y_pred = knn.predict(x_test)\n",
        "        error_rate.append(np.mean(y_pred != y_test))\n",
        "    kloc = error_rate.index(min(error_rate))\n",
        "    print(\"Lowest error is %s occurs at k=%s.\" % (error_rate[kloc], K[kloc]))\n",
        "\n",
        "    plt.plot(K, error_rate, color='blue', linestyle='dashed', marker='o',\n",
        "             markerfacecolor='red', markersize=10)\n",
        "    plt.title('Error Rate vs. K Value')\n",
        "    plt.xlabel('K')\n",
        "    plt.ylabel('Error Rate')\n",
        "    plt.show()\n",
        "    return K[kloc]"
      ],
      "metadata": {
        "id": "MlH21Lic_-Ss"
      },
      "execution_count": null,
      "outputs": []
    },
    {
      "cell_type": "code",
      "source": [
        "k=knn_error(21,x_train,y_train,x_test,y_test)\n"
      ],
      "metadata": {
        "colab": {
          "base_uri": "https://localhost:8080/",
          "height": 313
        },
        "id": "AomrLeNDAFkk",
        "outputId": "480955f2-54a9-43c8-c631-52ffe4a92583"
      },
      "execution_count": null,
      "outputs": [
        {
          "output_type": "stream",
          "name": "stdout",
          "text": [
            "Lowest error is 0.01892744479495268 occurs at k=2.\n"
          ]
        },
        {
          "output_type": "display_data",
          "data": {
            "text/plain": [
              "<Figure size 432x288 with 1 Axes>"
            ],
            "image/png": "[encoded data removed]"
          },
          "metadata": {
            "needs_background": "light"
          }
        }
      ]
    },
    {
      "cell_type": "code",
      "source": [
        "model = neighbors.KNeighborsClassifier(n_neighbors = k)\n",
        "classify(model,x_train,y_train,x_test,y_test)"
      ],
      "metadata": {
        "colab": {
          "base_uri": "https://localhost:8080/"
        },
        "id": "R8kSSQhDAITx",
        "outputId": "35b354b2-17eb-447a-b357-250bd4263216"
      },
      "execution_count": null,
      "outputs": [
        {
          "output_type": "stream",
          "name": "stdout",
          "text": [
            "              precision    recall  f1-score   support\n",
            "\n",
            "      female     0.9714    0.9916    0.9814       479\n",
            "        male     0.9913    0.9703    0.9807       472\n",
            "\n",
            "    accuracy                         0.9811       951\n",
            "   macro avg     0.9814    0.9810    0.9811       951\n",
            "weighted avg     0.9813    0.9811    0.9811       951\n",
            "\n"
          ]
        }
      ]
    },
    {
      "cell_type": "code",
      "source": [
        "k=knn_error(21,x_train3,y_train3,x_test3,y_test3)\n"
      ],
      "metadata": {
        "colab": {
          "base_uri": "https://localhost:8080/",
          "height": 313
        },
        "id": "Ksn-NIljANFy",
        "outputId": "0a64b194-97fe-4d37-eb09-ea4fefe6b232"
      },
      "execution_count": null,
      "outputs": [
        {
          "output_type": "stream",
          "name": "stdout",
          "text": [
            "Lowest error is 0.027339642481598318 occurs at k=5.\n"
          ]
        },
        {
          "output_type": "display_data",
          "data": {
            "text/plain": [
              "<Figure size 432x288 with 1 Axes>"
            ],
            "image/png": "[encoded data removed]"
          },
          "metadata": {
            "needs_background": "light"
          }
        }
      ]
    },
    {
      "cell_type": "code",
      "source": [
        "model = neighbors.KNeighborsClassifier(n_neighbors = k)\n",
        "classify(model,x_train,y_train,x_test,y_test)"
      ],
      "metadata": {
        "colab": {
          "base_uri": "https://localhost:8080/"
        },
        "id": "FUfZR3KkARaW",
        "outputId": "a6d34e55-cf68-43fa-b850-d4b2bdd74644"
      },
      "execution_count": null,
      "outputs": [
        {
          "output_type": "stream",
          "name": "stdout",
          "text": [
            "              precision    recall  f1-score   support\n",
            "\n",
            "      female     0.9788    0.9624    0.9705       479\n",
            "        male     0.9625    0.9788    0.9706       472\n",
            "\n",
            "    accuracy                         0.9706       951\n",
            "   macro avg     0.9706    0.9706    0.9706       951\n",
            "weighted avg     0.9707    0.9706    0.9706       951\n",
            "\n"
          ]
        }
      ]
    },
    {
      "cell_type": "markdown",
      "source": [
        "Naive Bayes"
      ],
      "metadata": {
        "id": "yvYt9-ZrAXJY"
      }
    },
    {
      "cell_type": "code",
      "source": [
        "model=naive_bayes.GaussianNB()\n",
        "classify(model,x_train,y_train,x_test,y_test)"
      ],
      "metadata": {
        "colab": {
          "base_uri": "https://localhost:8080/"
        },
        "id": "6olJ-K9dAVzd",
        "outputId": "8456bd83-45d4-41f7-b483-a2375d90afb6"
      },
      "execution_count": null,
      "outputs": [
        {
          "output_type": "stream",
          "name": "stdout",
          "text": [
            "              precision    recall  f1-score   support\n",
            "\n",
            "      female     0.9077    0.8831    0.8952       479\n",
            "        male     0.8845    0.9089    0.8966       472\n",
            "\n",
            "    accuracy                         0.8959       951\n",
            "   macro avg     0.8961    0.8960    0.8959       951\n",
            "weighted avg     0.8962    0.8959    0.8959       951\n",
            "\n"
          ]
        }
      ]
    },
    {
      "cell_type": "code",
      "source": [
        "model=naive_bayes.GaussianNB()\n",
        "classify(model,x_train3,y_train3,x_test3,y_test3)"
      ],
      "metadata": {
        "colab": {
          "base_uri": "https://localhost:8080/"
        },
        "id": "JzzbvorPAcGB",
        "outputId": "84e3df33-9cda-4500-d9ef-79b2fab070fd"
      },
      "execution_count": null,
      "outputs": [
        {
          "output_type": "stream",
          "name": "stdout",
          "text": [
            "              precision    recall  f1-score   support\n",
            "\n",
            "      female     0.9726    0.9624    0.9675       479\n",
            "        male     0.9623    0.9725    0.9673       472\n",
            "\n",
            "    accuracy                         0.9674       951\n",
            "   macro avg     0.9674    0.9674    0.9674       951\n",
            "weighted avg     0.9675    0.9674    0.9674       951\n",
            "\n"
          ]
        }
      ]
    },
    {
      "cell_type": "markdown",
      "source": [
        "Decision Tree"
      ],
      "metadata": {
        "id": "j0qdzbh_Ag5I"
      }
    },
    {
      "cell_type": "code",
      "source": [
        "def dt_error(n,x_train,y_train,x_test,y_test):\n",
        "    nodes = range(2, n)\n",
        "    error_rate = []\n",
        "    for k in nodes:\n",
        "        model = tree.DecisionTreeClassifier(max_leaf_nodes=k)\n",
        "        model.fit(x_train, y_train)\n",
        "        y_pred = model.predict(x_test)\n",
        "        error_rate.append(np.mean(y_pred != y_test))\n",
        "    kloc = error_rate.index(min(error_rate))\n",
        "    print(\"Lowest error is %s occurs at n=%s.\" % (error_rate[kloc], nodes[kloc]))\n",
        "    plt.plot(nodes, error_rate, color='blue', linestyle='dashed', marker='o',\n",
        "             markerfacecolor='red', markersize=10)\n",
        "    plt.xlabel('Tree Size')\n",
        "    plt.ylabel('Cross-Validated MSE')\n",
        "    plt.show()\n",
        "    return nodes[kloc]"
      ],
      "metadata": {
        "id": "eesebq2kAfmn"
      },
      "execution_count": null,
      "outputs": []
    },
    {
      "cell_type": "code",
      "source": [
        "n=dt_error(10,x_train,y_train,x_test,y_test)\n"
      ],
      "metadata": {
        "colab": {
          "base_uri": "https://localhost:8080/",
          "height": 297
        },
        "id": "hGs-3aHlAmW6",
        "outputId": "70bff80b-5992-4142-df76-f4935922aeac"
      },
      "execution_count": null,
      "outputs": [
        {
          "output_type": "stream",
          "name": "stdout",
          "text": [
            "Lowest error is 0.03785488958990536 occurs at n=9.\n"
          ]
        },
        {
          "output_type": "display_data",
          "data": {
            "text/plain": [
              "<Figure size 432x288 with 1 Axes>"
            ],
            "image/png": "[encoded data removed]"
          },
          "metadata": {
            "needs_background": "light"
          }
        }
      ]
    },
    {
      "cell_type": "code",
      "source": [
        "pruned_tree = tree.DecisionTreeClassifier(criterion = 'gini', max_leaf_nodes = n)\n",
        "classify(pruned_tree,x_train,y_train,x_test,y_test)"
      ],
      "metadata": {
        "colab": {
          "base_uri": "https://localhost:8080/"
        },
        "id": "goz0r0lUAuc5",
        "outputId": "6da4350d-85cc-4923-8683-15dc1e0ccb74"
      },
      "execution_count": null,
      "outputs": [
        {
          "output_type": "stream",
          "name": "stdout",
          "text": [
            "              precision    recall  f1-score   support\n",
            "\n",
            "      female     0.9452    0.9729    0.9588       479\n",
            "        male     0.9716    0.9428    0.9570       472\n",
            "\n",
            "    accuracy                         0.9579       951\n",
            "   macro avg     0.9584    0.9578    0.9579       951\n",
            "weighted avg     0.9583    0.9579    0.9579       951\n",
            "\n"
          ]
        }
      ]
    },
    {
      "cell_type": "code",
      "source": [
        "n=dt_error(15,x_train3,y_train3,x_test3,y_test3)\n"
      ],
      "metadata": {
        "colab": {
          "base_uri": "https://localhost:8080/",
          "height": 297
        },
        "id": "9ONaAl5TAxEP",
        "outputId": "9ff126cb-8185-46e2-e339-94e805d01b6c"
      },
      "execution_count": null,
      "outputs": [
        {
          "output_type": "stream",
          "name": "stdout",
          "text": [
            "Lowest error is 0.035751840168243953 occurs at n=11.\n"
          ]
        },
        {
          "output_type": "display_data",
          "data": {
            "text/plain": [
              "<Figure size 432x288 with 1 Axes>"
            ],
            "image/png": "[encoded data removed]"
          },
          "metadata": {
            "needs_background": "light"
          }
        }
      ]
    },
    {
      "cell_type": "code",
      "source": [
        "pruned_tree = tree.DecisionTreeClassifier(criterion = 'gini', max_leaf_nodes = n)\n",
        "classify(pruned_tree,x_train3,y_train3,x_test3,y_test3)"
      ],
      "metadata": {
        "colab": {
          "base_uri": "https://localhost:8080/"
        },
        "id": "tV7fvOzlA0Fy",
        "outputId": "c2d362b0-730a-441b-f1b8-6ad38786279b"
      },
      "execution_count": null,
      "outputs": [
        {
          "output_type": "stream",
          "name": "stdout",
          "text": [
            "              precision    recall  f1-score   support\n",
            "\n",
            "      female     0.9513    0.9791    0.9650       479\n",
            "        male     0.9782    0.9492    0.9634       472\n",
            "\n",
            "    accuracy                         0.9642       951\n",
            "   macro avg     0.9647    0.9641    0.9642       951\n",
            "weighted avg     0.9646    0.9642    0.9642       951\n",
            "\n"
          ]
        }
      ]
    },
    {
      "cell_type": "markdown",
      "source": [
        "Random Forest"
      ],
      "metadata": {
        "id": "08VNhv3PA2hd"
      }
    },
    {
      "cell_type": "code",
      "source": [
        "def rf_error(n,x_train,y_train,x_test,y_test):\n",
        "    error_rate = []\n",
        "    e=range(1,n,20)\n",
        "    for i in e:\n",
        "        model = ensemble.RandomForestClassifier(n_estimators = i)\n",
        "        model.fit(x_train, y_train)\n",
        "        y_pred = model.predict(x_test)\n",
        "        error_rate.append(np.mean(y_pred != y_test))\n",
        "    nloc = error_rate.index(min(error_rate))\n",
        "    print(\"Lowest error is %s occurs at n=%s.\" % (error_rate[nloc], e[nloc]))\n",
        "\n",
        "    plt.plot(e, error_rate, color='blue', linestyle='dashed', marker='o',\n",
        "             markerfacecolor='red', markersize=10)\n",
        "    plt.title('Error Rate vs. n Value')\n",
        "    plt.xlabel('n')\n",
        "    plt.ylabel('Error Rate')\n",
        "    plt.show()\n",
        "    return e[nloc]\n"
      ],
      "metadata": {
        "id": "cPCipRHHA486"
      },
      "execution_count": null,
      "outputs": []
    },
    {
      "cell_type": "code",
      "source": [
        "e=rf_error(100,x_train,y_train,x_test,y_test)\n"
      ],
      "metadata": {
        "colab": {
          "base_uri": "https://localhost:8080/",
          "height": 313
        },
        "id": "nld4K-thA9wM",
        "outputId": "acc4dee7-6a87-49cb-9b44-aa79a20d0b84"
      },
      "execution_count": null,
      "outputs": [
        {
          "output_type": "stream",
          "name": "stdout",
          "text": [
            "Lowest error is 0.02103049421661409 occurs at n=41.\n"
          ]
        },
        {
          "output_type": "display_data",
          "data": {
            "text/plain": [
              "<Figure size 432x288 with 1 Axes>"
            ],
            "image/png": "[encoded data removed]"
          },
          "metadata": {
            "needs_background": "light"
          }
        }
      ]
    },
    {
      "cell_type": "code",
      "source": [
        "model=ensemble.RandomForestClassifier(n_estimators = e)\n",
        "classify(model,x_train,y_train,x_test,y_test)"
      ],
      "metadata": {
        "colab": {
          "base_uri": "https://localhost:8080/"
        },
        "id": "4LCpuC3zBBJl",
        "outputId": "653a4391-5df4-4c06-8e41-e7ec74a895d5"
      },
      "execution_count": null,
      "outputs": [
        {
          "output_type": "stream",
          "name": "stdout",
          "text": [
            "              precision    recall  f1-score   support\n",
            "\n",
            "      female     0.9731    0.9833    0.9782       479\n",
            "        male     0.9829    0.9725    0.9776       472\n",
            "\n",
            "    accuracy                         0.9779       951\n",
            "   macro avg     0.9780    0.9779    0.9779       951\n",
            "weighted avg     0.9780    0.9779    0.9779       951\n",
            "\n"
          ]
        }
      ]
    },
    {
      "cell_type": "code",
      "source": [
        "e=rf_error(100,x_train3,y_train3,x_test3,y_test3)\n"
      ],
      "metadata": {
        "colab": {
          "base_uri": "https://localhost:8080/",
          "height": 313
        },
        "id": "RyHmSijMBDoq",
        "outputId": "f350b9ad-e33b-4436-b1e6-37d4276b58eb"
      },
      "execution_count": null,
      "outputs": [
        {
          "metadata": {
            "tags": null
          },
          "name": "stdout",
          "output_type": "stream",
          "text": [
            "Lowest error is 0.030494216614090432 occurs at n=21.\n"
          ]
        },
        {
          "data": {
            "image/png": "[encoded data removed]",
            "text/plain": [
              "<Figure size 432x288 with 1 Axes>"
            ]
          },
          "metadata": {},
          "output_type": "display_data"
        }
      ]
    },
    {
      "cell_type": "code",
      "source": [
        "model=ensemble.RandomForestClassifier(n_estimators = e)\n",
        "classify(model,x_train3,y_train3,x_test3,y_test3)\n"
      ],
      "metadata": {
        "id": "7hqI5u8qBHM1",
        "colab": {
          "base_uri": "https://localhost:8080/"
        },
        "outputId": "acb99c6e-8aa8-4668-82a8-25b7ad501dc0"
      },
      "execution_count": null,
      "outputs": [
        {
          "output_type": "stream",
          "name": "stdout",
          "text": [
            "              precision    recall  f1-score   support\n",
            "\n",
            "      female     0.9629    0.9749    0.9689       479\n",
            "        male     0.9742    0.9619    0.9680       472\n",
            "\n",
            "    accuracy                         0.9685       951\n",
            "   macro avg     0.9686    0.9684    0.9684       951\n",
            "weighted avg     0.9685    0.9685    0.9685       951\n",
            "\n"
          ]
        }
      ]
    },
    {
      "cell_type": "code",
      "source": [
        "e=rf_error(100,x_train3,y_train3,x_test3,y_test3)\n"
      ],
      "metadata": {
        "colab": {
          "base_uri": "https://localhost:8080/",
          "height": 313
        },
        "id": "mFou5bhkGZM4",
        "outputId": "9edcdf97-2bcc-4d6b-eced-ed181977eaa8"
      },
      "execution_count": null,
      "outputs": [
        {
          "output_type": "stream",
          "name": "stdout",
          "text": [
            "Lowest error is 0.031545741324921134 occurs at n=41.\n"
          ]
        },
        {
          "output_type": "display_data",
          "data": {
            "text/plain": [
              "<Figure size 432x288 with 1 Axes>"
            ],
            "image/png": "[encoded data removed]"
          },
          "metadata": {
            "needs_background": "light"
          }
        }
      ]
    },
    {
      "cell_type": "code",
      "source": [
        "model=ensemble.RandomForestClassifier(n_estimators = e)\n",
        "classify(model,x_train3,y_train3,x_test3,y_test3)"
      ],
      "metadata": {
        "colab": {
          "base_uri": "https://localhost:8080/"
        },
        "id": "PRiN79NpGbMz",
        "outputId": "d5c5c534-af13-4f74-a10f-9ce3affe06cb"
      },
      "execution_count": null,
      "outputs": [
        {
          "output_type": "stream",
          "name": "stdout",
          "text": [
            "              precision    recall  f1-score   support\n",
            "\n",
            "      female     0.9589    0.9749    0.9669       479\n",
            "        male     0.9741    0.9576    0.9658       472\n",
            "\n",
            "    accuracy                         0.9664       951\n",
            "   macro avg     0.9665    0.9663    0.9663       951\n",
            "weighted avg     0.9665    0.9664    0.9663       951\n",
            "\n"
          ]
        }
      ]
    },
    {
      "cell_type": "markdown",
      "source": [
        "XGBoost\n"
      ],
      "metadata": {
        "id": "vxJfbAPKGi1k"
      }
    },
    {
      "cell_type": "code",
      "source": [
        "model = xgboost.XGBClassifier()\n",
        "classify(model,x_train,y_train,x_test,y_test)"
      ],
      "metadata": {
        "colab": {
          "base_uri": "https://localhost:8080/"
        },
        "id": "s_toRkEQGfmS",
        "outputId": "7e3aa549-ccc3-453f-e0db-04ac1ef33ac1"
      },
      "execution_count": null,
      "outputs": [
        {
          "output_type": "stream",
          "name": "stdout",
          "text": [
            "              precision    recall  f1-score   support\n",
            "\n",
            "      female     0.9731    0.9833    0.9782       479\n",
            "        male     0.9829    0.9725    0.9776       472\n",
            "\n",
            "    accuracy                         0.9779       951\n",
            "   macro avg     0.9780    0.9779    0.9779       951\n",
            "weighted avg     0.9780    0.9779    0.9779       951\n",
            "\n"
          ]
        }
      ]
    },
    {
      "cell_type": "code",
      "source": [
        "model = xgboost.XGBClassifier()\n",
        "classify(model,x_train3,y_train3,x_test3,y_test3)"
      ],
      "metadata": {
        "colab": {
          "base_uri": "https://localhost:8080/"
        },
        "id": "ktsYDVwWGlzt",
        "outputId": "5019df57-021d-4e40-93bd-8d0f45c8e5d0"
      },
      "execution_count": null,
      "outputs": [
        {
          "output_type": "stream",
          "name": "stdout",
          "text": [
            "              precision    recall  f1-score   support\n",
            "\n",
            "      female     0.9647    0.9708    0.9677       479\n",
            "        male     0.9701    0.9640    0.9671       472\n",
            "\n",
            "    accuracy                         0.9674       951\n",
            "   macro avg     0.9674    0.9674    0.9674       951\n",
            "weighted avg     0.9674    0.9674    0.9674       951\n",
            "\n"
          ]
        }
      ]
    },
    {
      "cell_type": "markdown",
      "source": [
        "Support Vector Machine"
      ],
      "metadata": {
        "id": "YYZ_ghW7Gs3s"
      }
    },
    {
      "cell_type": "code",
      "source": [
        "def svm_kernel(x_train,y_train,x_test,y_test):\n",
        "    rate=[]\n",
        "    kernel=['rbf','poly','linear']\n",
        "    for i in kernel:\n",
        "        model=svm.SVC(kernel=i).fit(x_train,y_train)\n",
        "        y_pred=model.predict(x_train)\n",
        "        print(i, ' in-sample accuracy in SVM: ', accuracy_score(y_train,y_pred))\n",
        "        y_pred=model.predict(x_test)\n",
        "        print(i, ' out-of-sample accuracy in SVM: ', accuracy_score(y_test,y_pred))\n",
        "        rate.append(accuracy_score(y_test,y_pred))\n",
        "    nloc = rate.index(max(rate))\n",
        "    print(\"Highest accuracy is %s occurs at %s kernel.\" % (rate[nloc], kernel[nloc]))\n",
        "    return kernel[nloc]"
      ],
      "metadata": {
        "id": "FuY71iIVGuup"
      },
      "execution_count": null,
      "outputs": []
    },
    {
      "cell_type": "code",
      "source": [
        "def svm_error(k,C,x_train,y_train,x_test,y_test):\n",
        "    error_rate = []\n",
        "    C=range(1,C)\n",
        "    for i in C:\n",
        "        model=svm.SVC(kernel=k,C=i).fit(x_train,y_train)\n",
        "        model.fit(x_train, y_train)\n",
        "        y_pred = model.predict(x_test)\n",
        "        error_rate.append(np.mean(y_pred != y_test))\n",
        "    cloc = error_rate.index(min(error_rate))\n",
        "    print(\"Lowest error is %s occurs at C=%s.\" % (error_rate[cloc], C[cloc]))\n",
        "\n",
        "    plt.plot(C, error_rate, color='blue', linestyle='dashed', marker='o',\n",
        "             markerfacecolor='red', markersize=10)\n",
        "    plt.title('Error Rate vs. C Value')\n",
        "    plt.xlabel('C')\n",
        "    plt.ylabel('Error Rate')\n",
        "    plt.show()\n",
        "    return C[cloc]\n"
      ],
      "metadata": {
        "id": "QDhhBDE9G3Wy"
      },
      "execution_count": null,
      "outputs": []
    },
    {
      "cell_type": "code",
      "source": [
        "k=svm_kernel(x_train,y_train,x_test,y_test)\n"
      ],
      "metadata": {
        "colab": {
          "base_uri": "https://localhost:8080/"
        },
        "id": "2LhTw0IYG7P1",
        "outputId": "290ed178-9bcc-4895-a423-daff114f3c8c"
      },
      "execution_count": null,
      "outputs": [
        {
          "output_type": "stream",
          "name": "stdout",
          "text": [
            "rbf  in-sample accuracy in SVM:  0.9806044203879116\n",
            "rbf  out-of-sample accuracy in SVM:  0.9747634069400631\n",
            "poly  in-sample accuracy in SVM:  0.9846639603067208\n",
            "poly  out-of-sample accuracy in SVM:  0.9747634069400631\n",
            "linear  in-sample accuracy in SVM:  0.9769959404600812\n",
            "linear  out-of-sample accuracy in SVM:  0.9716088328075709\n",
            "Highest accuracy is 0.9747634069400631 occurs at rbf kernel.\n"
          ]
        }
      ]
    },
    {
      "cell_type": "code",
      "source": [
        "c=svm_error(k,10,x_train,y_train,x_test,y_test)\n"
      ],
      "metadata": {
        "colab": {
          "base_uri": "https://localhost:8080/",
          "height": 313
        },
        "id": "y092dYpWG9YL",
        "outputId": "a9f2f4c7-f995-423b-8327-97773852d5ce"
      },
      "execution_count": null,
      "outputs": [
        {
          "output_type": "stream",
          "name": "stdout",
          "text": [
            "Lowest error is 0.023133543638275498 occurs at C=2.\n"
          ]
        },
        {
          "output_type": "display_data",
          "data": {
            "text/plain": [
              "<Figure size 432x288 with 1 Axes>"
            ],
            "image/png": "[encoded data removed]"
          },
          "metadata": {
            "needs_background": "light"
          }
        }
      ]
    },
    {
      "cell_type": "code",
      "source": [
        "model=svm.SVC(kernel=k,C=c)\n",
        "classify(model,x_train,y_train,x_test,y_test)"
      ],
      "metadata": {
        "colab": {
          "base_uri": "https://localhost:8080/"
        },
        "id": "b_DBZt2aHAjl",
        "outputId": "4bd9bb98-f0d7-43ba-cfed-66fa478a5020"
      },
      "execution_count": null,
      "outputs": [
        {
          "output_type": "stream",
          "name": "stdout",
          "text": [
            "              precision    recall  f1-score   support\n",
            "\n",
            "      female     0.9790    0.9749    0.9770       479\n",
            "        male     0.9747    0.9788    0.9767       472\n",
            "\n",
            "    accuracy                         0.9769       951\n",
            "   macro avg     0.9769    0.9769    0.9769       951\n",
            "weighted avg     0.9769    0.9769    0.9769       951\n",
            "\n"
          ]
        }
      ]
    },
    {
      "cell_type": "code",
      "source": [
        "k=svm_kernel(x_train3,y_train3,x_test3,y_test3)\n"
      ],
      "metadata": {
        "colab": {
          "base_uri": "https://localhost:8080/"
        },
        "id": "U7mOxJtyHDIU",
        "outputId": "6d4d98f3-d079-4cb4-df7c-e7c29b714b1a"
      },
      "execution_count": null,
      "outputs": [
        {
          "output_type": "stream",
          "name": "stdout",
          "text": [
            "rbf  in-sample accuracy in SVM:  0.975191700496166\n",
            "rbf  out-of-sample accuracy in SVM:  0.9674027339642481\n",
            "poly  in-sample accuracy in SVM:  0.972936400541272\n",
            "poly  out-of-sample accuracy in SVM:  0.9652996845425867\n",
            "linear  in-sample accuracy in SVM:  0.9675236806495264\n",
            "linear  out-of-sample accuracy in SVM:  0.961093585699264\n",
            "Highest accuracy is 0.9674027339642481 occurs at rbf kernel.\n"
          ]
        }
      ]
    },
    {
      "cell_type": "code",
      "source": [
        "c=svm_error(k,10,x_train3,y_train3,x_test3,y_test3)\n"
      ],
      "metadata": {
        "colab": {
          "base_uri": "https://localhost:8080/",
          "height": 313
        },
        "id": "YzmwSe_-HEZL",
        "outputId": "eb0abeba-7936-4411-cf00-4b1b65f87eae"
      },
      "execution_count": null,
      "outputs": [
        {
          "output_type": "stream",
          "name": "stdout",
          "text": [
            "Lowest error is 0.029442691903259727 occurs at C=2.\n"
          ]
        },
        {
          "output_type": "display_data",
          "data": {
            "text/plain": [
              "<Figure size 432x288 with 1 Axes>"
            ],
            "image/png": "[encoded data removed]"
          },
          "metadata": {
            "needs_background": "light"
          }
        }
      ]
    },
    {
      "cell_type": "code",
      "source": [
        "model=svm.SVC(kernel=k,C=c)\n",
        "classify(model,x_train3,y_train3,x_test3,y_test3)\n"
      ],
      "metadata": {
        "colab": {
          "base_uri": "https://localhost:8080/"
        },
        "id": "VcgiBPW9HJJl",
        "outputId": "f0b1bb7a-95f1-4d73-ea2b-09501e0826dc"
      },
      "execution_count": null,
      "outputs": [
        {
          "output_type": "stream",
          "name": "stdout",
          "text": [
            "              precision    recall  f1-score   support\n",
            "\n",
            "      female     0.9708    0.9708    0.9708       479\n",
            "        male     0.9703    0.9703    0.9703       472\n",
            "\n",
            "    accuracy                         0.9706       951\n",
            "   macro avg     0.9706    0.9706    0.9706       951\n",
            "weighted avg     0.9706    0.9706    0.9706       951\n",
            "\n"
          ]
        }
      ]
    },
    {
      "cell_type": "markdown",
      "source": [
        "Neural Network : MLP_Classifier"
      ],
      "metadata": {
        "id": "Q9h-Fk1SHO_c"
      }
    },
    {
      "cell_type": "code",
      "source": [
        "def nn_error(n,x_train,y_train,x_test,y_test):\n",
        "    error_rate = []\n",
        "    hidden_layer=range(1,n)\n",
        "    for i in hidden_layer:\n",
        "        model = neural_network.MLPClassifier(solver='adam', alpha=1e-5,\n",
        "                                       hidden_layer_sizes=i,\n",
        "                                       activation='logistic',random_state=17,\n",
        "                                       max_iter=2000)\n",
        "        model.fit(x_train, y_train)\n",
        "        y_pred = model.predict(x_test)\n",
        "        error_rate.append(np.mean(y_pred != y_test))\n",
        "    kloc = error_rate.index(min(error_rate))\n",
        "    print(\"Lowest error is %s occurs at C=%s.\" % (error_rate[kloc], hidden_layer[kloc]))\n",
        "\n",
        "    plt.plot(hidden_layer, error_rate, color='blue', linestyle='dashed', marker='o',\n",
        "             markerfacecolor='red', markersize=10)\n",
        "    plt.title('Error Rate vs. Hidden Layer Size')\n",
        "    plt.xlabel('Size')\n",
        "    plt.ylabel('Error Rate')\n",
        "    plt.show()\n",
        "    return hidden_layer[kloc]\n"
      ],
      "metadata": {
        "id": "d1KU-ekAHSMf"
      },
      "execution_count": null,
      "outputs": []
    },
    {
      "cell_type": "code",
      "source": [
        "h=nn_error(20,x_train,y_train,x_test,y_test)\n"
      ],
      "metadata": {
        "colab": {
          "base_uri": "https://localhost:8080/",
          "height": 313
        },
        "id": "SuLZK5nLHU15",
        "outputId": "93cb360a-8ead-435a-e35a-4f36e39438b7"
      },
      "execution_count": null,
      "outputs": [
        {
          "output_type": "stream",
          "name": "stdout",
          "text": [
            "Lowest error is 0.028391167192429023 occurs at C=3.\n"
          ]
        },
        {
          "output_type": "display_data",
          "data": {
            "text/plain": [
              "<Figure size 432x288 with 1 Axes>"
            ],
            "image/png": "[encoded data removed]"
          },
          "metadata": {
            "needs_background": "light"
          }
        }
      ]
    },
    {
      "cell_type": "code",
      "source": [
        "h=nn_error(20,x_train3,y_train3,x_test3,y_test3)\n"
      ],
      "metadata": {
        "colab": {
          "base_uri": "https://localhost:8080/",
          "height": 313
        },
        "id": "9JTgMOHiHkCt",
        "outputId": "302d0827-7f01-43d0-93ed-8fa6fb655fa8"
      },
      "execution_count": null,
      "outputs": [
        {
          "output_type": "stream",
          "name": "stdout",
          "text": [
            "Lowest error is 0.03785488958990536 occurs at C=1.\n"
          ]
        },
        {
          "output_type": "display_data",
          "data": {
            "text/plain": [
              "<Figure size 432x288 with 1 Axes>"
            ],
            "image/png": "[encoded data removed]"
          },
          "metadata": {
            "needs_background": "light"
          }
        }
      ]
    },
    {
      "cell_type": "code",
      "source": [
        "model = neural_network.MLPClassifier(solver='adam', alpha=1e-5,\n",
        "                                       hidden_layer_sizes=h,\n",
        "                                       activation='logistic',random_state=17,\n",
        "                                       max_iter=2000)\n",
        "classify(model,x_train3,y_train3,x_test3,y_test3)"
      ],
      "metadata": {
        "colab": {
          "base_uri": "https://localhost:8080/"
        },
        "id": "Yb1ncq1jHx95",
        "outputId": "0a8c3d8e-8e22-4b7b-f89e-09e6fe07f9ff"
      },
      "execution_count": null,
      "outputs": [
        {
          "output_type": "stream",
          "name": "stdout",
          "text": [
            "              precision    recall  f1-score   support\n",
            "\n",
            "      female     0.9683    0.9562    0.9622       479\n",
            "        male     0.9561    0.9682    0.9621       472\n",
            "\n",
            "    accuracy                         0.9621       951\n",
            "   macro avg     0.9622    0.9622    0.9621       951\n",
            "weighted avg     0.9622    0.9621    0.9621       951\n",
            "\n"
          ]
        }
      ]
    },
    {
      "cell_type": "markdown",
      "source": [
        "We can see that the highest accurracy is 98.74% which is made by XgBoost. XgBoost is a powerful algorithm, and very popular in Data Science competition. Next time I will try to oppotimize the parameters of XgBoost."
      ],
      "metadata": {
        "id": "BjS983hIL5HL"
      }
    }
  ]
}